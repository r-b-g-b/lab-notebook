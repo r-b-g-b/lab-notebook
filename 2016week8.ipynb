{
 "cells": [
  {
   "cell_type": "markdown",
   "metadata": {},
   "source": [
    "# Real-time fmri\n",
    "\n",
    "### timing\n",
    "- Getting synced time information into the pipeline and logged\n",
    "\n",
    "- TR start, forp (fiber optic response pad?)--usb--> stimmy (\"5\" keypress) [set use mode 100 ASCII 12345 (serial) Sends ASCII \"B\" for blue button, \"Y\" for yellow, etc.](http://www.curdes.com/technical/932usemodes)\n",
    "- should go into preprocess.py, and prime for reception of new image\n",
    "  - \"5\" trigger arrives indicating acquisition time\n",
    "  - new image arrives and is bound to the acquisition time\n",
    "  - stimulus\n",
    "\n",
    "There is the problem that the preprocess and stimulate may run on separate computers with separate clocks\n",
    "\n",
    "### reliability\n",
    "- should test how pub-sub zmq works. is queuing happening? do images get dropped?\n",
    "- collect --pub-sub--> preprocess --pub-sub--> stimulate [CODE](#pub_sub_reliability)\n",
    "\n",
    "# Decoding\n",
    "- should read papers that jack and alex sent out to understand decoding framework"
   ]
  },
  {
   "cell_type": "markdown",
   "metadata": {},
   "source": [
    "# Test pub-sub\n",
    "<a id='#pub_sub_reliability'></a>"
   ]
  },
  {
   "cell_type": "code",
   "execution_count": 9,
   "metadata": {
    "collapsed": true
   },
   "outputs": [],
   "source": [
    "import zmq"
   ]
  },
  {
   "cell_type": "code",
   "execution_count": 45,
   "metadata": {
    "collapsed": false
   },
   "outputs": [
    {
     "name": "stdout",
     "output_type": "stream",
     "text": [
      "Overwriting publisher.py\n"
     ]
    }
   ],
   "source": [
    "%%writefile publisher.py\n",
    "#!/usr/bin/env python\n",
    "import zmq\n",
    "ctx = zmq.Context()\n",
    "s = ctx.socket(zmq.PUB)\n",
    "s.bind('tcp://*:5556')\n",
    "for i in range(3):\n",
    "    print 'sending'\n",
    "    s.send('hi there')\n"
   ]
  },
  {
   "cell_type": "code",
   "execution_count": 46,
   "metadata": {
    "collapsed": false
   },
   "outputs": [
    {
     "name": "stdout",
     "output_type": "stream",
     "text": [
      "Overwriting subscriber.py\n"
     ]
    }
   ],
   "source": [
    "%%writefile subscriber.py\n",
    "#!/usr/bin/env python\n",
    "import zmq\n",
    "ctx = zmq.Context()\n",
    "s = ctx.socket(zmq.SUB)\n",
    "s.connect('tcp://localhost:5556')\n",
    "s.setsockopt(zmq.SUBSCRIBE, 'hi')\n",
    "print 'receiving'\n",
    "for i in range(3):\n",
    "    msg = s.recv()\n",
    "    print msg"
   ]
  },
  {
   "cell_type": "code",
   "execution_count": 33,
   "metadata": {
    "collapsed": false
   },
   "outputs": [],
   "source": [
    "r = subprocess.Popen(['python', 'subscriber.py'], stdout=subprocess.PIPE,\n",
    "                    stderr=subprocess.PIPE)"
   ]
  },
  {
   "cell_type": "code",
   "execution_count": 38,
   "metadata": {
    "collapsed": true
   },
   "outputs": [],
   "source": [
    "!python publisher.py"
   ]
  },
  {
   "cell_type": "code",
   "execution_count": 37,
   "metadata": {
    "collapsed": false
   },
   "outputs": [
    {
     "name": "stdout",
     "output_type": "stream",
     "text": [
      "receiving\n",
      "^CTraceback (most recent call last):\n",
      "  File \"subscriber.py\", line 9, in <module>\n",
      "    print s.recv()\n",
      "  File \"socket.pyx\", line 628, in zmq.backend.cython.socket.Socket.recv (zmq/backend/cython/socket.c:5616)\n",
      "  File \"socket.pyx\", line 662, in zmq.backend.cython.socket.Socket.recv (zmq/backend/cython/socket.c:5436)\n",
      "  File \"socket.pyx\", line 139, in zmq.backend.cython.socket._recv_copy (zmq/backend/cython/socket.c:1771)\n",
      "  File \"checkrc.pxd\", line 11, in zmq.backend.cython.checkrc._check_rc (zmq/backend/cython/socket.c:5863)\n",
      "KeyboardInterrupt\n",
      "\n"
     ]
    }
   ],
   "source": [
    "!python subscriber.py"
   ]
  },
  {
   "cell_type": "code",
   "execution_count": null,
   "metadata": {
    "collapsed": true
   },
   "outputs": [],
   "source": []
  }
 ],
 "metadata": {
  "kernelspec": {
   "display_name": "Python 2",
   "language": "python",
   "name": "python2"
  },
  "language_info": {
   "codemirror_mode": {
    "name": "ipython",
    "version": 2
   },
   "file_extension": ".py",
   "mimetype": "text/x-python",
   "name": "python",
   "nbconvert_exporter": "python",
   "pygments_lexer": "ipython2",
   "version": "2.7.8"
  }
 },
 "nbformat": 4,
 "nbformat_minor": 0
}
