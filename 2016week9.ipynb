{
 "cells": [
  {
   "cell_type": "markdown",
   "metadata": {},
   "source": [
    "# Monday\n",
    "## Prepare lab meeting\n",
    "- **Realtime fmri**\n",
    "- What do we have so far?\n",
    "- How does it work?\n",
    "  - General outline of how it works\n",
    "  - [our github](github.com/gallantlab/realtimefmri)\n",
    "  - `collect.py`, `preprocess.py`, `stimulate.py`\n",
    "  - Time profiling\n",
    "- What needs work?\n",
    "  - Detrending\n",
    "- Get opinions\n",
    "- What are some uses you are most interested in?\n",
    "  - Bayesian experimental design: retinotopy"
   ]
  },
  {
   "cell_type": "markdown",
   "metadata": {},
   "source": [
    "# Tuesday\n",
    "Start working on semantic decoding paper"
   ]
  },
  {
   "cell_type": "markdown",
   "metadata": {},
   "source": [
    "- **semantic system** meaning system in the brain\n",
    "  - encode semantics: e.g. respond to words more than non words\n",
    "  - in this study, good validation prediction performance in:\n",
    "    - lateral and ventral *temporal cortex*\n",
    "    - lat and medial *PFC*\n",
    "    - lat and med *parietal cortex*\n",
    "    - med, sup, and inf *prefrontal cortex*\n",
    "- semantic atlas, generalized location of semantic \n",
    "\n",
    "### result: most areas represent information about specific *semantic domains* (groups of related concepts)\n",
    "- what is a semantic domain: a group of related concepts\n",
    "- e.g. \"family\": [mother, father, sister, brother], \"tools\": [handles, hammer, nail, scissor, use, wield]\n",
    "\n",
    "## Method"
   ]
  },
  {
   "cell_type": "code",
   "execution_count": 1,
   "metadata": {
    "collapsed": true
   },
   "outputs": [],
   "source": [
    "from sklearn.decomposition import PCA"
   ]
  },
  {
   "cell_type": "code",
   "execution_count": 2,
   "metadata": {
    "collapsed": true
   },
   "outputs": [],
   "source": [
    "pca = PCA()"
   ]
  },
  {
   "cell_type": "code",
   "execution_count": null,
   "metadata": {
    "collapsed": true
   },
   "outputs": [],
   "source": [
    "pca.fit(np.random.randn())"
   ]
  },
  {
   "cell_type": "markdown",
   "metadata": {},
   "source": [
    "1. **voxel-wise modeling (VM)**: estimate semantic selectivity for each voxel\n",
    "  - *stimulus features*: features extracted from stimuli\n",
    "  - in this study: *word embedding space*, normalized co-occurrence between each word and a set of 985 common English words (e.g. above, worry, mother)\n",
    "  - regression determines how each feature modulates BOLD responses in each voxel\n",
    "\n",
    "  - *nuisance regressors*: account for responses caused by low-level stimulus properties (e.g. word rate, phonemic content)\n",
    "\n",
    "  - **VM** enables model to be validated on unseen data. Allows computation of *effect size* by finding fraction of variance explained by the models (*explained variance*).\n",
    "\n",
    "  - Y (n_vox x n_timepts) = B (n_vox x n_features) \\* X (n_features x n_timepts)\n",
    "  \n",
    "  - \"By inspecting the fit models we can determine which specific semantic domains are represented in each voxel\"\n",
    "  - that means, for each voxel, we can say which of the word embedding space dimensions it encodes\n",
    "  - *n_features*: 985 (english 1000 features)\n",
    "  - *B*: weights (n_vox x n_features)\n",
    "\n",
    "3. applying principal components analysis to estimated models *aggregated across subjects* (how do you aggregate? append *B*s [B0, B1, B2, ..., Bn] (n_vox\\*n_subj x n_features)\n",
    "  - B_pc (n_vox x n_pcs)\n",
    "\n",
    "4. decide which ones are shared semantic dimensions (vs. noise, indiv differences)\n",
    "  - Y (n_vox x n_timepts) = B(n_vox x 1) \\* X (1 x n_timepts)\n",
    "  - for each pc\n",
    "  - compute explained variance for each of the pcs\n",
    "  - is ev for these > chance (how well do stimulus matrix pcs explain variance?)\n",
    "  - what is this statistic?\n",
    "    - can you predict the responses from just the stimulus alone\n",
    "    - \"if there is no structured semantic space underlying the true model weights (i.e. the weights for each voxel are independent from other voxels) then the PCs of the estimated models weights will be identical to the PCs of the stimulus matrix.\"\n",
    "  - ok, model weights give us four shared semantic dimensions B (n_vox x 4)"
   ]
  },
  {
   "cell_type": "markdown",
   "metadata": {},
   "source": [
    "met with alex, learned about decoding\n",
    "check out `EACL fMRI Tutorial.ipynb`\n",
    "\n",
    "- $W$(n_vocab, time): ~one-hot encoded\n",
    "- $X$ (n_vocab x n_timepts): ~one-hot encoded, time-binned with some smoothing\n",
    "- $E$ (n_vocab x n_voc_emb): ~\n",
    "- $Y$ (n_timepts x n_vox): voxel responses\n",
    "\n",
    "encoding formula: $Y=(XE)\\beta_E + \\epsilon$"
   ]
  },
  {
   "cell_type": "markdown",
   "metadata": {},
   "source": [
    "# Wednesday\n",
    "OLS solution\n",
    "We have a data model that states that our dependent/target variables $Y$ depend on some linear combination $\\beta$ of our independent/predictor variables $X$ plus some normally distributed noise \\epsilon.\n",
    "$$\n",
    "Y=X \\hat\\beta + \\epsilon\n",
    "$$\n",
    "Solving for $\\epsilon$, we get\n",
    "$$\n",
    "\\epsilon=Y-X\\hat\\beta\n",
    "$$\n",
    "We want to find the $\\hat\\beta$ that minimizes the sum of squared errors of the prediction $\\epsilon^T\\epsilon$\n"
   ]
  },
  {
   "cell_type": "markdown",
   "metadata": {
    "collapsed": true
   },
   "source": [
    "## Get on it\n",
    "### Semantic decoding the dumb way\n",
    "Jack's idea is to take each n-gram in a billion word corpus and predict the response.\n",
    "\n",
    "Take brain activity, find closest match to encoding model predicted response."
   ]
  },
  {
   "cell_type": "markdown",
   "metadata": {
    "collapsed": true
   },
   "source": [
    "### Step 1. find corpus\n",
    "Lydia already crunched a corpus from here [GloWbE and COCA](http://corpus.byu.edu/full-text/formats.asp)"
   ]
  },
  {
   "cell_type": "code",
   "execution_count": 58,
   "metadata": {
    "collapsed": true
   },
   "outputs": [],
   "source": [
    "# %load semantic-decoding/run_glowbe_coca_denseco_1.py\n",
    "#!/usr/bin/python\n",
    "import numpy as np\n",
    "import cPickle\n",
    "\n",
    "## Load the data\n",
    "corpus_file = np.load('/auto/k8/majure/HHMM/glowbe_coca_tokenized_deContr.npz')\n",
    "corpus = corpus_file['data']\n",
    "\n",
    "# Clean it up a little bit (make sentence end, sentence start, null word, and\n",
    "# out-of-vocab words equal to -1)\n",
    "corpus[corpus == 0] = -1 # null word\n",
    "corpus[corpus == 10833] = -1 # sentence start\n",
    "corpus[corpus == 10834] = -1 # sentence end\n",
    "corpus[corpus == 10835] = -1 # out-of-vocab\n",
    "\n",
    "## Load the vocab, add markers to the end\n",
    "corpus_vocab = np.array(cPickle.load(open(\"/auto/k8/huth/storydata/comodels/complete5-15w-denseco-mat-vocab\")) + [\"SENTENCE_START\", \"SENTENCE_END\", \"*\"])"
   ]
  },
  {
   "cell_type": "markdown",
   "metadata": {},
   "source": [
    "We're using a different vocab in our corpus than the one used in word embedding space. Is this a problem? If too many words in the corpus are absent from the word embedding space, there won't be as many samples."
   ]
  },
  {
   "cell_type": "code",
   "execution_count": 101,
   "metadata": {
    "collapsed": false
   },
   "outputs": [
    {
     "name": "stdout",
     "output_type": "stream",
     "text": [
      "shared words 7159\n",
      "eng1000 only 3677\n",
      "corpus only 3311\n"
     ]
    }
   ],
   "source": [
    "print 'shared words %d\\neng1000 only %d\\ncorpus only %d' % (len(set(eng1000.vocab).intersection(set(corpus_vocab))),\n",
    "                                                            len(set(corpus_vocab) - set(eng1000.vocab)),\n",
    "                                                            len(set(eng1000.vocab) - set(corpus_vocab)))"
   ]
  },
  {
   "cell_type": "markdown",
   "metadata": {},
   "source": [
    "Just roll with it for now... retrain eng1000 word embedding model on corpus vocabulary some other time"
   ]
  },
  {
   "cell_type": "code",
   "execution_count": 102,
   "metadata": {
    "collapsed": true
   },
   "outputs": [],
   "source": [
    "n_trs = 5 # number of TRs to predict at a time\n",
    "n_wds_per_tr = 5 # number of words we expect in one TR\n",
    "n_id_corpus = int(1e6) # predict responses to one million 5-TR samples\n",
    "\n",
    "n_wds_per_sample = n_trs*n_wds_per_tr"
   ]
  },
  {
   "cell_type": "code",
   "execution_count": 76,
   "metadata": {
    "collapsed": false
   },
   "outputs": [],
   "source": [
    "ident_corpus = np.empty((n_id_corpus, n_embed))"
   ]
  },
  {
   "cell_type": "code",
   "execution_count": 109,
   "metadata": {
    "collapsed": false
   },
   "outputs": [
    {
     "data": {
      "text/plain": [
       "'* * * * * * data on community dynamics are a necessary part of research studies * * * biology needs * of community stability in reserves of different sizes and at different levels of * by humans *'"
      ]
     },
     "execution_count": 109,
     "metadata": {},
     "output_type": "execute_result"
    }
   ],
   "source": [
    "' '.join(vocab[corpus[:40]])"
   ]
  },
  {
   "cell_type": "markdown",
   "metadata": {},
   "source": [
    "### Step 2a. generate corpus samples\n",
    "Draw a large number of samples from the corpus and transform them into word embedding space"
   ]
  },
  {
   "cell_type": "code",
   "execution_count": 10,
   "metadata": {
    "collapsed": true
   },
   "outputs": [],
   "source": [
    "import sys\n",
    "sys.path.append('semantic-decoding/')"
   ]
  },
  {
   "cell_type": "code",
   "execution_count": null,
   "metadata": {
    "collapsed": false
   },
   "outputs": [],
   "source": [
    "from SemanticModel import SemanticModel\n",
    "eng1000 = SemanticModel.load('semantic-decoding/english1000sm.hf5')\n",
    "n_embed = eng1000.get_ndim()"
   ]
  },
  {
   "cell_type": "code",
   "execution_count": null,
   "metadata": {
    "collapsed": false
   },
   "outputs": [],
   "source": [
    "sample_indices = np.random.random_integers(0, len(corpus)-n_wds_per_sample,\n",
    "                               n_id_corpus)\n",
    "\n",
    "# pick n_id_corpus samples and transform them into word embedding space\n",
    "id_corpus_emb = np.zeros((n_id_corpus, n_embed))\n",
    "for i, ix in enumerate(sample_indices):\n",
    "    ngram = corpus_vocab[corpus[ix:ix+n_wds_per_sample]]\n",
    "    for gram in ngram:\n",
    "        try:\n",
    "            id_corpus_emb[i,:] += eng1000[gram]\n",
    "        except KeyError: pass  "
   ]
  },
  {
   "cell_type": "code",
   "execution_count": 42,
   "metadata": {
    "collapsed": true
   },
   "outputs": [],
   "source": [
    "from matplotlib import pyplot as plt\n",
    "%matplotlib inline"
   ]
  },
  {
   "cell_type": "code",
   "execution_count": 55,
   "metadata": {
    "collapsed": false
   },
   "outputs": [
    {
     "name": "stdout",
     "output_type": "stream",
     "text": [
      "you will load precomputed\n"
     ]
    },
    {
     "data": {
      "image/png": "[encoded data removed]",
      "text/plain": [
       "<matplotlib.figure.Figure at 0x7f113266ebd0>"
      ]
     },
     "metadata": {},
     "output_type": "display_data"
    }
   ],
   "source": [
    "print ngram\n",
    "plt.plot(eng1000['you']+20);\n",
    "plt.plot(eng1000['will']+15);\n",
    "plt.plot(eng1000['load']+10);\n",
    "try:plt.plot(eng1000['precomputed']+5)\n",
    "except:pass\n",
    "plt.plot(id_corp[0,:]);"
   ]
  },
  {
   "cell_type": "markdown",
   "metadata": {},
   "source": [
    "### Step 3. load model and predict response for each of the n-grams\n",
    " "
   ]
  },
  {
   "cell_type": "code",
   "execution_count": null,
   "metadata": {
    "collapsed": true
   },
   "outputs": [],
   "source": [
    "n_timepts = 300\n",
    "n_vox = 60000\n",
    "responses = np.random.randn(n_timepts, n_vox)\n",
    "\n",
    "for response in responses:\n",
    "    "
   ]
  },
  {
   "cell_type": "markdown",
   "metadata": {},
   "source": [
    "### Step 4. load brain data and compute similarity to each of the n-grams"
   ]
  },
  {
   "cell_type": "markdown",
   "metadata": {},
   "source": [
    "### step 5. construct output"
   ]
  },
  {
   "cell_type": "code",
   "execution_count": null,
   "metadata": {
    "collapsed": true
   },
   "outputs": [],
   "source": []
  }
 ],
 "metadata": {
  "kernelspec": {
   "display_name": "Python 2",
   "language": "python",
   "name": "python2"
  },
  "language_info": {
   "codemirror_mode": {
    "name": "ipython",
    "version": 2
   },
   "file_extension": ".py",
   "mimetype": "text/x-python",
   "name": "python",
   "nbconvert_exporter": "python",
   "pygments_lexer": "ipython2",
   "version": "2.7.8"
  }
 },
 "nbformat": 4,
 "nbformat_minor": 0
}
